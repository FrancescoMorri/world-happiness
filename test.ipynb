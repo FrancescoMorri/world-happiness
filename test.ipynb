{
 "cells": [
  {
   "cell_type": "code",
   "execution_count": 102,
   "metadata": {},
   "outputs": [],
   "source": [
    "import pandas as pd\n",
    "\n",
    "years = ['2015','2016','2017','2018','2019','2020','2021','2022']\n",
    "data = {}\n",
    "for y in years:\n",
    "    data[y] = pd.read_csv(\"archive/\"+str(y)+\".csv\")[['Rank', 'Country', 'Happiness score']]"
   ]
  },
  {
   "cell_type": "code",
   "execution_count": 103,
   "metadata": {},
   "outputs": [],
   "source": [
    "plot_data = {}\n",
    "for y in years:\n",
    "    for i,row in data[y].iterrows():\n",
    "        if row['Country'] in plot_data.keys():\n",
    "            plot_data[row['Country']].append([y, int(row['Rank']),float(row['Happiness score'])])\n",
    "        else:\n",
    "            plot_data[row['Country']] = []\n",
    "            plot_data[row['Country']].append([y, int(row['Rank']),float(row['Happiness score'])])"
   ]
  },
  {
   "cell_type": "code",
   "execution_count": 104,
   "metadata": {},
   "outputs": [],
   "source": [
    "import json\n",
    "dj = json.dumps(plot_data)\n",
    "f = open(\"graph_data.json\", 'w')\n",
    "f.write(dj)\n",
    "f.close()"
   ]
  },
  {
   "cell_type": "code",
   "execution_count": null,
   "metadata": {},
   "outputs": [],
   "source": []
  }
 ],
 "metadata": {
  "kernelspec": {
   "display_name": "Python 3.9.13 ('worldmap-m2S1WH16')",
   "language": "python",
   "name": "python3"
  },
  "language_info": {
   "codemirror_mode": {
    "name": "ipython",
    "version": 3
   },
   "file_extension": ".py",
   "mimetype": "text/x-python",
   "name": "python",
   "nbconvert_exporter": "python",
   "pygments_lexer": "ipython3",
   "version": "3.9.13"
  },
  "orig_nbformat": 4,
  "vscode": {
   "interpreter": {
    "hash": "dc4fb33211dc2bd210d7d6a73174c53c799f3992e7a0082407a4cc29dd905b64"
   }
  }
 },
 "nbformat": 4,
 "nbformat_minor": 2
}
